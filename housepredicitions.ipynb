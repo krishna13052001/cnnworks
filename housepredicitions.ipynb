{
  "nbformat": 4,
  "nbformat_minor": 0,
  "metadata": {
    "colab": {
      "name": "housepredicitions.ipynb",
      "provenance": [],
      "authorship_tag": "ABX9TyPXHauxK4rNwekQUo7aEHOV",
      "include_colab_link": true
    },
    "kernelspec": {
      "name": "python3",
      "display_name": "Python 3"
    },
    "language_info": {
      "name": "python"
    }
  },
  "cells": [
    {
      "cell_type": "markdown",
      "metadata": {
        "id": "view-in-github",
        "colab_type": "text"
      },
      "source": [
        "<a href=\"https://colab.research.google.com/github/krishna13052001/cnnworks/blob/main/housepredicitions.ipynb\" target=\"_parent\"><img src=\"https://colab.research.google.com/assets/colab-badge.svg\" alt=\"Open In Colab\"/></a>"
      ]
    },
    {
      "cell_type": "code",
      "metadata": {
        "id": "BmArcJIUphKE"
      },
      "source": [
        "import numpy as np\n",
        "import pandas as pd\n",
        "import matplotlib.pyplot as plt\n",
        "%matplotlib inline"
      ],
      "execution_count": null,
      "outputs": []
    },
    {
      "cell_type": "code",
      "metadata": {
        "id": "K1CofGkdprJz"
      },
      "source": [
        "import tensorflow as tf\n",
        "from tensorflow import keras"
      ],
      "execution_count": null,
      "outputs": []
    },
    {
      "cell_type": "code",
      "metadata": {
        "colab": {
          "base_uri": "https://localhost:8080/"
        },
        "id": "5Ti4vP6spvgs",
        "outputId": "dedf9a95-61dc-42bb-dbb1-b5e96c8686a9"
      },
      "source": [
        "from sklearn.datasets import fetch_california_housing\n",
        "data = fetch_california_housing()"
      ],
      "execution_count": null,
      "outputs": [
        {
          "output_type": "stream",
          "text": [
            "Downloading Cal. housing from https://ndownloader.figshare.com/files/5976036 to /root/scikit_learn_data\n"
          ],
          "name": "stderr"
        }
      ]
    },
    {
      "cell_type": "code",
      "metadata": {
        "colab": {
          "base_uri": "https://localhost:8080/"
        },
        "id": "PTwLyX-Wp6XW",
        "outputId": "8e245c5e-635a-4c13-b8f1-4e5b9e1aedcb"
      },
      "source": [
        "attributes = data.feature_names\n",
        "attributes"
      ],
      "execution_count": null,
      "outputs": [
        {
          "output_type": "execute_result",
          "data": {
            "text/plain": [
              "['MedInc',\n",
              " 'HouseAge',\n",
              " 'AveRooms',\n",
              " 'AveBedrms',\n",
              " 'Population',\n",
              " 'AveOccup',\n",
              " 'Latitude',\n",
              " 'Longitude']"
            ]
          },
          "metadata": {
            "tags": []
          },
          "execution_count": 4
        }
      ]
    },
    {
      "cell_type": "code",
      "metadata": {
        "id": "xSxUZgpLqsPw"
      },
      "source": [
        "from sklearn.model_selection import train_test_split\n",
        "X_train, X_test ,y_train, y_test = train_test_split(data.data, data.target,random_state=42)\n",
        "X_train, X_validate, y_train, y_validate = train_test_split(X_train,y_train,random_state=42)"
      ],
      "execution_count": null,
      "outputs": []
    },
    {
      "cell_type": "code",
      "metadata": {
        "id": "-SvlxB9drMZq"
      },
      "source": [
        "from sklearn.preprocessing import StandardScaler\n",
        "scaler =  StandardScaler()\n",
        "X_train = scaler.fit_transform(X_train)\n",
        "X_validate = scaler.fit_transform(X_validate)\n",
        "X_test = scaler.fit_transform(X_test)"
      ],
      "execution_count": null,
      "outputs": []
    },
    {
      "cell_type": "code",
      "metadata": {
        "id": "OguZ6RuJrlEi"
      },
      "source": [
        "np.random.seed(42)\n",
        "tf.random.set_seed(42)"
      ],
      "execution_count": null,
      "outputs": []
    },
    {
      "cell_type": "code",
      "metadata": {
        "colab": {
          "base_uri": "https://localhost:8080/"
        },
        "id": "qqjEYiqCrzGu",
        "outputId": "3bb52f54-b4cd-4196-c837-c2db091c62eb"
      },
      "source": [
        "X_train.shape"
      ],
      "execution_count": null,
      "outputs": [
        {
          "output_type": "execute_result",
          "data": {
            "text/plain": [
              "(11610, 8)"
            ]
          },
          "metadata": {
            "tags": []
          },
          "execution_count": 11
        }
      ]
    },
    {
      "cell_type": "code",
      "metadata": {
        "id": "DSA0ydo3r0e1"
      },
      "source": [
        "model = keras.models.Sequential()\n",
        "model.add(keras.layers.Dense(30, activation=\"relu\",input_shape=[8]))\n",
        "model.add(keras.layers.Dense(30, activation=\"relu\"))\n",
        "model.add(keras.layers.Dense(1))"
      ],
      "execution_count": null,
      "outputs": []
    },
    {
      "cell_type": "code",
      "metadata": {
        "colab": {
          "base_uri": "https://localhost:8080/"
        },
        "id": "4M6QvY24tIs9",
        "outputId": "153f146e-0472-4ad2-d0a2-38a92f105740"
      },
      "source": [
        "model.compile(loss=\"mean_squared_error\", optimizer=keras.optimizers.SGD(lr=1e-3),metrics=['mae'])"
      ],
      "execution_count": null,
      "outputs": [
        {
          "output_type": "stream",
          "text": [
            "/usr/local/lib/python3.7/dist-packages/tensorflow/python/keras/optimizer_v2/optimizer_v2.py:375: UserWarning: The `lr` argument is deprecated, use `learning_rate` instead.\n",
            "  \"The `lr` argument is deprecated, use `learning_rate` instead.\")\n"
          ],
          "name": "stderr"
        }
      ]
    },
    {
      "cell_type": "code",
      "metadata": {
        "colab": {
          "base_uri": "https://localhost:8080/"
        },
        "id": "UszyT0QItbn2",
        "outputId": "4721dc61-4604-418b-cefb-2d3d23d77e37"
      },
      "source": [
        "model_history = model.fit(X_train, y_train, epochs=20, validation_data=(X_validate, y_validate))"
      ],
      "execution_count": null,
      "outputs": [
        {
          "output_type": "stream",
          "text": [
            "Epoch 1/20\n",
            "363/363 [==============================] - 2s 2ms/step - loss: 1.8866 - mae: 0.9900 - val_loss: 0.7414 - val_mae: 0.6560\n",
            "Epoch 2/20\n",
            "363/363 [==============================] - 1s 2ms/step - loss: 0.6577 - mae: 0.6042 - val_loss: 0.6221 - val_mae: 0.5870\n",
            "Epoch 3/20\n",
            "363/363 [==============================] - 1s 2ms/step - loss: 0.5934 - mae: 0.5618 - val_loss: 0.5779 - val_mae: 0.5550\n",
            "Epoch 4/20\n",
            "363/363 [==============================] - 1s 2ms/step - loss: 0.5557 - mae: 0.5398 - val_loss: 0.5572 - val_mae: 0.5496\n",
            "Epoch 5/20\n",
            "363/363 [==============================] - 1s 1ms/step - loss: 0.5272 - mae: 0.5237 - val_loss: 0.5305 - val_mae: 0.5319\n",
            "Epoch 6/20\n",
            "363/363 [==============================] - 1s 1ms/step - loss: 0.5033 - mae: 0.5113 - val_loss: 0.5113 - val_mae: 0.5224\n",
            "Epoch 7/20\n",
            "363/363 [==============================] - 1s 2ms/step - loss: 0.4854 - mae: 0.5010 - val_loss: 0.4974 - val_mae: 0.5151\n",
            "Epoch 8/20\n",
            "363/363 [==============================] - 1s 2ms/step - loss: 0.4709 - mae: 0.4924 - val_loss: 0.4903 - val_mae: 0.5109\n",
            "Epoch 9/20\n",
            "363/363 [==============================] - 1s 2ms/step - loss: 0.4578 - mae: 0.4857 - val_loss: 0.4773 - val_mae: 0.5029\n",
            "Epoch 10/20\n",
            "363/363 [==============================] - 1s 2ms/step - loss: 0.4474 - mae: 0.4797 - val_loss: 0.4696 - val_mae: 0.4988\n",
            "Epoch 11/20\n",
            "363/363 [==============================] - 1s 2ms/step - loss: 0.4393 - mae: 0.4744 - val_loss: 0.4704 - val_mae: 0.5039\n",
            "Epoch 12/20\n",
            "363/363 [==============================] - 1s 2ms/step - loss: 0.4318 - mae: 0.4703 - val_loss: 0.4590 - val_mae: 0.4942\n",
            "Epoch 13/20\n",
            "363/363 [==============================] - 1s 1ms/step - loss: 0.4261 - mae: 0.4674 - val_loss: 0.4587 - val_mae: 0.4963\n",
            "Epoch 14/20\n",
            "363/363 [==============================] - 1s 1ms/step - loss: 0.4202 - mae: 0.4636 - val_loss: 0.4550 - val_mae: 0.4951\n",
            "Epoch 15/20\n",
            "363/363 [==============================] - 1s 1ms/step - loss: 0.4155 - mae: 0.4613 - val_loss: 0.4507 - val_mae: 0.4904\n",
            "Epoch 16/20\n",
            "363/363 [==============================] - 1s 1ms/step - loss: 0.4112 - mae: 0.4591 - val_loss: 0.4458 - val_mae: 0.4876\n",
            "Epoch 17/20\n",
            "363/363 [==============================] - 1s 1ms/step - loss: 0.4077 - mae: 0.4569 - val_loss: 0.4431 - val_mae: 0.4835\n",
            "Epoch 18/20\n",
            "363/363 [==============================] - 1s 1ms/step - loss: 0.4040 - mae: 0.4545 - val_loss: 0.4418 - val_mae: 0.4822\n",
            "Epoch 19/20\n",
            "363/363 [==============================] - 1s 1ms/step - loss: 0.4004 - mae: 0.4521 - val_loss: 0.4388 - val_mae: 0.4807\n",
            "Epoch 20/20\n",
            "363/363 [==============================] - 1s 2ms/step - loss: 0.3980 - mae: 0.4508 - val_loss: 0.4383 - val_mae: 0.4820\n"
          ],
          "name": "stdout"
        }
      ]
    },
    {
      "cell_type": "code",
      "metadata": {
        "id": "BVssr62Ltq0v",
        "colab": {
          "base_uri": "https://localhost:8080/"
        },
        "outputId": "1e21a517-defc-4ee2-fdfa-15d3c525322f"
      },
      "source": [
        "mae_test = model.fit(X_test, y_test)"
      ],
      "execution_count": 16,
      "outputs": [
        {
          "output_type": "stream",
          "text": [
            "162/162 [==============================] - 0s 1ms/step - loss: 0.3942 - mae: 0.4504\n"
          ],
          "name": "stdout"
        }
      ]
    },
    {
      "cell_type": "code",
      "metadata": {
        "colab": {
          "base_uri": "https://localhost:8080/"
        },
        "id": "dxqEOzkPt6Ye",
        "outputId": "4642dc09-db42-4c68-c0d6-0d424a66edc0"
      },
      "source": [
        "model_history.history"
      ],
      "execution_count": 17,
      "outputs": [
        {
          "output_type": "execute_result",
          "data": {
            "text/plain": [
              "{'loss': [1.8866394758224487,\n",
              "  0.6577127575874329,\n",
              "  0.5934185981750488,\n",
              "  0.5557191371917725,\n",
              "  0.5271905064582825,\n",
              "  0.5032976269721985,\n",
              "  0.48535558581352234,\n",
              "  0.47091808915138245,\n",
              "  0.45779934525489807,\n",
              "  0.4474469721317291,\n",
              "  0.4393136501312256,\n",
              "  0.43176087737083435,\n",
              "  0.4260515868663788,\n",
              "  0.42017653584480286,\n",
              "  0.41549986600875854,\n",
              "  0.4111650586128235,\n",
              "  0.4077068567276001,\n",
              "  0.40395283699035645,\n",
              "  0.4004494547843933,\n",
              "  0.3979603350162506],\n",
              " 'mae': [0.9900256991386414,\n",
              "  0.6041510701179504,\n",
              "  0.5618005990982056,\n",
              "  0.5398454070091248,\n",
              "  0.5237294435501099,\n",
              "  0.5112562775611877,\n",
              "  0.5010153651237488,\n",
              "  0.492448091506958,\n",
              "  0.4857262372970581,\n",
              "  0.4797375202178955,\n",
              "  0.4744163453578949,\n",
              "  0.4703480303287506,\n",
              "  0.46740880608558655,\n",
              "  0.46360209584236145,\n",
              "  0.4612663984298706,\n",
              "  0.4591343402862549,\n",
              "  0.4568699896335602,\n",
              "  0.45453643798828125,\n",
              "  0.4521065056324005,\n",
              "  0.45083147287368774],\n",
              " 'val_loss': [0.7413728833198547,\n",
              "  0.6220595836639404,\n",
              "  0.5779172778129578,\n",
              "  0.5571869611740112,\n",
              "  0.5305212736129761,\n",
              "  0.5112658143043518,\n",
              "  0.49737149477005005,\n",
              "  0.4903269112110138,\n",
              "  0.47727108001708984,\n",
              "  0.4695732295513153,\n",
              "  0.4703767001628876,\n",
              "  0.4590151607990265,\n",
              "  0.45866554975509644,\n",
              "  0.45500877499580383,\n",
              "  0.45073699951171875,\n",
              "  0.4458054006099701,\n",
              "  0.4431248605251312,\n",
              "  0.44182002544403076,\n",
              "  0.4387696385383606,\n",
              "  0.43828633427619934],\n",
              " 'val_mae': [0.6560152769088745,\n",
              "  0.587020993232727,\n",
              "  0.5550429821014404,\n",
              "  0.5495699644088745,\n",
              "  0.5318752527236938,\n",
              "  0.5223987698554993,\n",
              "  0.5151413083076477,\n",
              "  0.5109214186668396,\n",
              "  0.502907931804657,\n",
              "  0.4988013505935669,\n",
              "  0.503919243812561,\n",
              "  0.4942389726638794,\n",
              "  0.4962692856788635,\n",
              "  0.49511757493019104,\n",
              "  0.49042701721191406,\n",
              "  0.4875504672527313,\n",
              "  0.483480304479599,\n",
              "  0.4822426736354828,\n",
              "  0.4806600511074066,\n",
              "  0.48197242617607117]}"
            ]
          },
          "metadata": {
            "tags": []
          },
          "execution_count": 17
        }
      ]
    },
    {
      "cell_type": "code",
      "metadata": {
        "colab": {
          "base_uri": "https://localhost:8080/",
          "height": 320
        },
        "id": "dRMXpLg7t85I",
        "outputId": "f9395291-a1d5-4839-e5bd-6a06848c814e"
      },
      "source": [
        "pd.DataFrame(model_history.history).plot(figsize=(8,5))\n",
        "plt.grid(True)\n",
        "# plt.gca().set_ylin(0,1)\n",
        "plt.show()"
      ],
      "execution_count": 24,
      "outputs": [
        {
          "output_type": "display_data",
          "data": {
            "image/png": "[encoded data removed]",
            "text/plain": [
              "<Figure size 576x360 with 1 Axes>"
            ]
          },
          "metadata": {
            "tags": [],
            "needs_background": "light"
          }
        }
      ]
    }
  ]
}