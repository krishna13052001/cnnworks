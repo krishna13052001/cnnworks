{
  "nbformat": 4,
  "nbformat_minor": 0,
  "metadata": {
    "colab": {
      "name": "imageclassifier.ipynb",
      "provenance": [],
      "authorship_tag": "ABX9TyNIGxugDAvHx+FqG06AJEsQ",
      "include_colab_link": true
    },
    "kernelspec": {
      "name": "python3",
      "display_name": "Python 3"
    },
    "language_info": {
      "name": "python"
    }
  },
  "cells": [
    {
      "cell_type": "markdown",
      "metadata": {
        "id": "view-in-github",
        "colab_type": "text"
      },
      "source": [
        "<a href=\"https://colab.research.google.com/github/krishna13052001/cnnworks/blob/main/imageclassifier.ipynb\" target=\"_parent\"><img src=\"https://colab.research.google.com/assets/colab-badge.svg\" alt=\"Open In Colab\"/></a>"
      ]
    },
    {
      "cell_type": "code",
      "metadata": {
        "id": "TZVgACEt0Ngj"
      },
      "source": [
        "import numpy as np\n",
        "import pandas as pd\n",
        "import matplotlib.pyplot as plt\n",
        "%matplotlib inline\n",
        "import tensorflow as tf\n",
        "from tensorflow import keras"
      ],
      "execution_count": 1,
      "outputs": []
    },
    {
      "cell_type": "code",
      "metadata": {
        "colab": {
          "base_uri": "https://localhost:8080/",
          "height": 35
        },
        "id": "3ATYWb1Z0g3C",
        "outputId": "9cdb10d3-2a4b-473c-c456-96509c0695b3"
      },
      "source": [
        "keras.__version__"
      ],
      "execution_count": 2,
      "outputs": [
        {
          "output_type": "execute_result",
          "data": {
            "application/vnd.google.colaboratory.intrinsic+json": {
              "type": "string"
            },
            "text/plain": [
              "'2.5.0'"
            ]
          },
          "metadata": {
            "tags": []
          },
          "execution_count": 2
        }
      ]
    },
    {
      "cell_type": "code",
      "metadata": {
        "colab": {
          "base_uri": "https://localhost:8080/",
          "height": 35
        },
        "id": "ThwWMvdv0i7M",
        "outputId": "2f7f1cca-8d01-4ac2-e86e-e6f0a846a079"
      },
      "source": [
        "tf.__version__"
      ],
      "execution_count": 3,
      "outputs": [
        {
          "output_type": "execute_result",
          "data": {
            "application/vnd.google.colaboratory.intrinsic+json": {
              "type": "string"
            },
            "text/plain": [
              "'2.5.0'"
            ]
          },
          "metadata": {
            "tags": []
          },
          "execution_count": 3
        }
      ]
    },
    {
      "cell_type": "code",
      "metadata": {
        "id": "-gjLiX1Z0lEE"
      },
      "source": [
        "data = keras.datasets.fashion_mnist\n",
        "(X_train_full, y_train_full), (X_test_full, y_test_full) = data.load_data()"
      ],
      "execution_count": 4,
      "outputs": []
    },
    {
      "cell_type": "code",
      "metadata": {
        "colab": {
          "base_uri": "https://localhost:8080/",
          "height": 282
        },
        "id": "OEaAd4uO2n6L",
        "outputId": "3e306971-a299-408b-d359-341541afbf09"
      },
      "source": [
        "plt.imshow(X_train_full[0])"
      ],
      "execution_count": 5,
      "outputs": [
        {
          "output_type": "execute_result",
          "data": {
            "text/plain": [
              "<matplotlib.image.AxesImage at 0x7fa9f7f5af90>"
            ]
          },
          "metadata": {
            "tags": []
          },
          "execution_count": 5
        },
        {
          "output_type": "display_data",
          "data": {
            "image/png": "[encoded data removed]",
            "text/plain": [
              "<Figure size 432x288 with 1 Axes>"
            ]
          },
          "metadata": {
            "tags": [],
            "needs_background": "light"
          }
        }
      ]
    },
    {
      "cell_type": "markdown",
      "metadata": {
        "id": "1DuKme3i3UVA"
      },
      "source": [
        "images are 28x28 grey scale values"
      ]
    },
    {
      "cell_type": "code",
      "metadata": {
        "colab": {
          "base_uri": "https://localhost:8080/"
        },
        "id": "GdLNTIXw2vNH",
        "outputId": "d9b21bc2-7508-4c76-d6ca-ccd316e7035d"
      },
      "source": [
        "y_train_full[0]"
      ],
      "execution_count": 6,
      "outputs": [
        {
          "output_type": "execute_result",
          "data": {
            "text/plain": [
              "9"
            ]
          },
          "metadata": {
            "tags": []
          },
          "execution_count": 6
        }
      ]
    },
    {
      "cell_type": "code",
      "metadata": {
        "id": "lmq4RCPF2yUy"
      },
      "source": [
        "class_names = [\"T-shirt/top\",\"Trouser\",\"Pullover\",\"Dress\",\"Coat\",\"Sandal\",\"Shirt\",\"Sneaker\",\"Bag\",\"Ankle boot\"]"
      ],
      "execution_count": 7,
      "outputs": []
    },
    {
      "cell_type": "markdown",
      "metadata": {
        "id": "Xv6I2Zkg3lFC"
      },
      "source": [
        "<h1>Data Normalization</h1>"
      ]
    },
    {
      "cell_type": "code",
      "metadata": {
        "id": "v6ZmYLNi3HfZ"
      },
      "source": [
        " # pixel intenstist is 0 to 255 so we will divide every thing by 225\n",
        " X_train_n = X_train_full / 255.0\n",
        " X_test_n = X_test_full / 255.0"
      ],
      "execution_count": 8,
      "outputs": []
    },
    {
      "cell_type": "code",
      "metadata": {
        "id": "Df7grQib3_tw"
      },
      "source": [
        "X_validation , X_train  = X_train_n[:5000], X_train_n[5000:]\n",
        "y_validation, y_train = y_train_full[:5000], y_train_full[5000:]\n",
        "X_test = X_test_n"
      ],
      "execution_count": 9,
      "outputs": []
    },
    {
      "cell_type": "code",
      "metadata": {
        "id": "AogAKLNQ5Vlb"
      },
      "source": [
        "np.random.seed(1)\n",
        "tf.random.set_seed(1)"
      ],
      "execution_count": 10,
      "outputs": []
    },
    {
      "cell_type": "code",
      "metadata": {
        "id": "PHmhLMhT5qDR"
      },
      "source": [
        "model = keras.models.Sequential()\n",
        "model.add(keras.layers.Flatten(input_shape=[28,28]))\n",
        "model.add(keras.layers.Dense(300, activation=\"relu\"))\n",
        "model.add(keras.layers.Dense(100, activation=\"relu\"))\n",
        "model.add(keras.layers.Dense(10, activation=\"softmax\"))"
      ],
      "execution_count": 11,
      "outputs": []
    },
    {
      "cell_type": "code",
      "metadata": {
        "colab": {
          "base_uri": "https://localhost:8080/"
        },
        "id": "RyMVSiFr5iVL",
        "outputId": "b9050620-74c0-4034-8701-a246cd448c17"
      },
      "source": [
        "model.summary()"
      ],
      "execution_count": 12,
      "outputs": [
        {
          "output_type": "stream",
          "text": [
            "Model: \"sequential\"\n",
            "_________________________________________________________________\n",
            "Layer (type)                 Output Shape              Param #   \n",
            "=================================================================\n",
            "flatten (Flatten)            (None, 784)               0         \n",
            "_________________________________________________________________\n",
            "dense (Dense)                (None, 300)               235500    \n",
            "_________________________________________________________________\n",
            "dense_1 (Dense)              (None, 100)               30100     \n",
            "_________________________________________________________________\n",
            "dense_2 (Dense)              (None, 10)                1010      \n",
            "=================================================================\n",
            "Total params: 266,610\n",
            "Trainable params: 266,610\n",
            "Non-trainable params: 0\n",
            "_________________________________________________________________\n"
          ],
          "name": "stdout"
        }
      ]
    },
    {
      "cell_type": "code",
      "metadata": {
        "colab": {
          "base_uri": "https://localhost:8080/",
          "height": 466
        },
        "id": "HxDXLjFg6KIb",
        "outputId": "3b81231d-7dd9-47f8-dba4-250d73c0a63e"
      },
      "source": [
        "import pydot\n",
        "keras.utils.plot_model(model)"
      ],
      "execution_count": 13,
      "outputs": [
        {
          "output_type": "execute_result",
          "data": {
            "image/png": "[encoded data removed]",
            "text/plain": [
              "<IPython.core.display.Image object>"
            ]
          },
          "metadata": {
            "tags": []
          },
          "execution_count": 13
        }
      ]
    },
    {
      "cell_type": "code",
      "metadata": {
        "id": "PzOT2iJh60Ws"
      },
      "source": [
        "weights, biases = model.layers[1].get_weights()"
      ],
      "execution_count": 14,
      "outputs": []
    },
    {
      "cell_type": "code",
      "metadata": {
        "id": "aUSVLJUk6_Vq"
      },
      "source": [
        "model.compile(loss=\"sparse_categorical_crossentropy\", optimizer=\"sgd\",metrics=[\"accuracy\"])"
      ],
      "execution_count": 17,
      "outputs": []
    },
    {
      "cell_type": "code",
      "metadata": {
        "colab": {
          "base_uri": "https://localhost:8080/"
        },
        "id": "3e4NUphO70U0",
        "outputId": "b0bdfacc-6143-4331-c8df-5f4313b76edb"
      },
      "source": [
        "model_history = model.fit(X_train, y_train, epochs=30, validation_data=(X_validation, y_validation))"
      ],
      "execution_count": 18,
      "outputs": [
        {
          "output_type": "stream",
          "text": [
            "Epoch 1/30\n",
            "1719/1719 [==============================] - 7s 4ms/step - loss: 0.7149 - accuracy: 0.7641 - val_loss: 0.5320 - val_accuracy: 0.8176\n",
            "Epoch 2/30\n",
            "1719/1719 [==============================] - 6s 3ms/step - loss: 0.4899 - accuracy: 0.8295 - val_loss: 0.4407 - val_accuracy: 0.8494\n",
            "Epoch 3/30\n",
            "1719/1719 [==============================] - 6s 3ms/step - loss: 0.4452 - accuracy: 0.8449 - val_loss: 0.4198 - val_accuracy: 0.8576\n",
            "Epoch 4/30\n",
            "1719/1719 [==============================] - 6s 3ms/step - loss: 0.4180 - accuracy: 0.8547 - val_loss: 0.3954 - val_accuracy: 0.8634\n",
            "Epoch 5/30\n",
            "1719/1719 [==============================] - 6s 3ms/step - loss: 0.3996 - accuracy: 0.8591 - val_loss: 0.3873 - val_accuracy: 0.8644\n",
            "Epoch 6/30\n",
            "1719/1719 [==============================] - 6s 3ms/step - loss: 0.3831 - accuracy: 0.8651 - val_loss: 0.3718 - val_accuracy: 0.8710\n",
            "Epoch 7/30\n",
            "1719/1719 [==============================] - 6s 3ms/step - loss: 0.3694 - accuracy: 0.8681 - val_loss: 0.3858 - val_accuracy: 0.8636\n",
            "Epoch 8/30\n",
            "1719/1719 [==============================] - 6s 3ms/step - loss: 0.3562 - accuracy: 0.8727 - val_loss: 0.3664 - val_accuracy: 0.8696\n",
            "Epoch 9/30\n",
            "1719/1719 [==============================] - 5s 3ms/step - loss: 0.3455 - accuracy: 0.8769 - val_loss: 0.3503 - val_accuracy: 0.8774\n",
            "Epoch 10/30\n",
            "1719/1719 [==============================] - 6s 3ms/step - loss: 0.3360 - accuracy: 0.8807 - val_loss: 0.3519 - val_accuracy: 0.8798\n",
            "Epoch 11/30\n",
            "1719/1719 [==============================] - 5s 3ms/step - loss: 0.3275 - accuracy: 0.8843 - val_loss: 0.3435 - val_accuracy: 0.8728\n",
            "Epoch 12/30\n",
            "1719/1719 [==============================] - 6s 3ms/step - loss: 0.3185 - accuracy: 0.8853 - val_loss: 0.3312 - val_accuracy: 0.8818\n",
            "Epoch 13/30\n",
            "1719/1719 [==============================] - 6s 3ms/step - loss: 0.3114 - accuracy: 0.8884 - val_loss: 0.3540 - val_accuracy: 0.8724\n",
            "Epoch 14/30\n",
            "1719/1719 [==============================] - 5s 3ms/step - loss: 0.3052 - accuracy: 0.8905 - val_loss: 0.3362 - val_accuracy: 0.8798\n",
            "Epoch 15/30\n",
            "1719/1719 [==============================] - 6s 3ms/step - loss: 0.2986 - accuracy: 0.8929 - val_loss: 0.3221 - val_accuracy: 0.8838\n",
            "Epoch 16/30\n",
            "1719/1719 [==============================] - 6s 3ms/step - loss: 0.2920 - accuracy: 0.8942 - val_loss: 0.3161 - val_accuracy: 0.8862\n",
            "Epoch 17/30\n",
            "1719/1719 [==============================] - 6s 3ms/step - loss: 0.2867 - accuracy: 0.8965 - val_loss: 0.3180 - val_accuracy: 0.8852\n",
            "Epoch 18/30\n",
            "1719/1719 [==============================] - 6s 4ms/step - loss: 0.2807 - accuracy: 0.8978 - val_loss: 0.3131 - val_accuracy: 0.8876\n",
            "Epoch 19/30\n",
            "1719/1719 [==============================] - 7s 4ms/step - loss: 0.2761 - accuracy: 0.9011 - val_loss: 0.3077 - val_accuracy: 0.8896\n",
            "Epoch 20/30\n",
            "1719/1719 [==============================] - 6s 3ms/step - loss: 0.2701 - accuracy: 0.9030 - val_loss: 0.3408 - val_accuracy: 0.8728\n",
            "Epoch 21/30\n",
            "1719/1719 [==============================] - 6s 3ms/step - loss: 0.2663 - accuracy: 0.9037 - val_loss: 0.3265 - val_accuracy: 0.8832\n",
            "Epoch 22/30\n",
            "1719/1719 [==============================] - 6s 3ms/step - loss: 0.2613 - accuracy: 0.9061 - val_loss: 0.3392 - val_accuracy: 0.8788\n",
            "Epoch 23/30\n",
            "1719/1719 [==============================] - 6s 3ms/step - loss: 0.2564 - accuracy: 0.9078 - val_loss: 0.3011 - val_accuracy: 0.8928\n",
            "Epoch 24/30\n",
            "1719/1719 [==============================] - 6s 3ms/step - loss: 0.2524 - accuracy: 0.9092 - val_loss: 0.3143 - val_accuracy: 0.8858\n",
            "Epoch 25/30\n",
            "1719/1719 [==============================] - 6s 3ms/step - loss: 0.2482 - accuracy: 0.9108 - val_loss: 0.3106 - val_accuracy: 0.8882\n",
            "Epoch 26/30\n",
            "1719/1719 [==============================] - 6s 3ms/step - loss: 0.2433 - accuracy: 0.9134 - val_loss: 0.3008 - val_accuracy: 0.8930\n",
            "Epoch 27/30\n",
            "1719/1719 [==============================] - 5s 3ms/step - loss: 0.2403 - accuracy: 0.9135 - val_loss: 0.3219 - val_accuracy: 0.8856\n",
            "Epoch 28/30\n",
            "1719/1719 [==============================] - 6s 4ms/step - loss: 0.2348 - accuracy: 0.9148 - val_loss: 0.3086 - val_accuracy: 0.8886\n",
            "Epoch 29/30\n",
            "1719/1719 [==============================] - 7s 4ms/step - loss: 0.2322 - accuracy: 0.9165 - val_loss: 0.3070 - val_accuracy: 0.8892\n",
            "Epoch 30/30\n",
            "1719/1719 [==============================] - 6s 3ms/step - loss: 0.2273 - accuracy: 0.9172 - val_loss: 0.3292 - val_accuracy: 0.8824\n"
          ],
          "name": "stdout"
        }
      ]
    },
    {
      "cell_type": "code",
      "metadata": {
        "colab": {
          "base_uri": "https://localhost:8080/"
        },
        "id": "DMFt9tCY8C3q",
        "outputId": "6c9a76b7-be52-4623-b2c1-a49e261ef791"
      },
      "source": [
        "model_history.params"
      ],
      "execution_count": 19,
      "outputs": [
        {
          "output_type": "execute_result",
          "data": {
            "text/plain": [
              "{'epochs': 30, 'steps': 1719, 'verbose': 1}"
            ]
          },
          "metadata": {
            "tags": []
          },
          "execution_count": 19
        }
      ]
    },
    {
      "cell_type": "code",
      "metadata": {
        "colab": {
          "base_uri": "https://localhost:8080/"
        },
        "id": "Dpml9Dvn9GRD",
        "outputId": "a9e38536-a4cb-4294-dd1b-f343af75f75c"
      },
      "source": [
        "model_history.history"
      ],
      "execution_count": 20,
      "outputs": [
        {
          "output_type": "execute_result",
          "data": {
            "text/plain": [
              "{'accuracy': [0.764054536819458,\n",
              "  0.8295090794563293,\n",
              "  0.8448908925056458,\n",
              "  0.8546727299690247,\n",
              "  0.8590909242630005,\n",
              "  0.8650727272033691,\n",
              "  0.8680545687675476,\n",
              "  0.8726909160614014,\n",
              "  0.876872718334198,\n",
              "  0.8806909322738647,\n",
              "  0.8843454718589783,\n",
              "  0.885309100151062,\n",
              "  0.8884363770484924,\n",
              "  0.8904545307159424,\n",
              "  0.8928727507591248,\n",
              "  0.8941636085510254,\n",
              "  0.8965272903442383,\n",
              "  0.8978182077407837,\n",
              "  0.9010545611381531,\n",
              "  0.9030181765556335,\n",
              "  0.9037091135978699,\n",
              "  0.906109094619751,\n",
              "  0.9078181982040405,\n",
              "  0.9092181921005249,\n",
              "  0.9108363389968872,\n",
              "  0.913381814956665,\n",
              "  0.9134727120399475,\n",
              "  0.9147999882698059,\n",
              "  0.916527271270752,\n",
              "  0.9172182083129883],\n",
              " 'loss': [0.7148920297622681,\n",
              "  0.4898756742477417,\n",
              "  0.4451940357685089,\n",
              "  0.4180085361003876,\n",
              "  0.3996325731277466,\n",
              "  0.383132666349411,\n",
              "  0.3693520724773407,\n",
              "  0.356209397315979,\n",
              "  0.34552592039108276,\n",
              "  0.33601927757263184,\n",
              "  0.32748764753341675,\n",
              "  0.31850382685661316,\n",
              "  0.31140658259391785,\n",
              "  0.30519261956214905,\n",
              "  0.29858922958374023,\n",
              "  0.2919808030128479,\n",
              "  0.2867424786090851,\n",
              "  0.28072088956832886,\n",
              "  0.27607154846191406,\n",
              "  0.27014443278312683,\n",
              "  0.26627087593078613,\n",
              "  0.26130440831184387,\n",
              "  0.25642257928848267,\n",
              "  0.2524137496948242,\n",
              "  0.24819780886173248,\n",
              "  0.24328739941120148,\n",
              "  0.24026557803153992,\n",
              "  0.23479433357715607,\n",
              "  0.232164666056633,\n",
              "  0.2272646129131317],\n",
              " 'val_accuracy': [0.8176000118255615,\n",
              "  0.849399983882904,\n",
              "  0.8575999736785889,\n",
              "  0.8633999824523926,\n",
              "  0.8644000291824341,\n",
              "  0.8709999918937683,\n",
              "  0.8636000156402588,\n",
              "  0.8695999979972839,\n",
              "  0.8773999810218811,\n",
              "  0.879800021648407,\n",
              "  0.8727999925613403,\n",
              "  0.8817999958992004,\n",
              "  0.8723999857902527,\n",
              "  0.879800021648407,\n",
              "  0.8838000297546387,\n",
              "  0.8862000107765198,\n",
              "  0.885200023651123,\n",
              "  0.8876000046730042,\n",
              "  0.8895999789237976,\n",
              "  0.8727999925613403,\n",
              "  0.8831999897956848,\n",
              "  0.8787999749183655,\n",
              "  0.892799973487854,\n",
              "  0.8858000040054321,\n",
              "  0.8881999850273132,\n",
              "  0.8930000066757202,\n",
              "  0.8855999708175659,\n",
              "  0.8885999917984009,\n",
              "  0.88919997215271,\n",
              "  0.8823999762535095],\n",
              " 'val_loss': [0.5320276618003845,\n",
              "  0.44065508246421814,\n",
              "  0.4197878837585449,\n",
              "  0.3954209089279175,\n",
              "  0.3873343765735626,\n",
              "  0.37176305055618286,\n",
              "  0.38582268357276917,\n",
              "  0.36637642979621887,\n",
              "  0.3503180742263794,\n",
              "  0.35194993019104004,\n",
              "  0.34349116683006287,\n",
              "  0.3311672508716583,\n",
              "  0.353985071182251,\n",
              "  0.33619239926338196,\n",
              "  0.32212188839912415,\n",
              "  0.31613636016845703,\n",
              "  0.3180244266986847,\n",
              "  0.31309595704078674,\n",
              "  0.3076767921447754,\n",
              "  0.3407604694366455,\n",
              "  0.3264683485031128,\n",
              "  0.33920395374298096,\n",
              "  0.3010932207107544,\n",
              "  0.31429633498191833,\n",
              "  0.3105635643005371,\n",
              "  0.3008483052253723,\n",
              "  0.32191500067710876,\n",
              "  0.30857396125793457,\n",
              "  0.3070387840270996,\n",
              "  0.32922208309173584]}"
            ]
          },
          "metadata": {
            "tags": []
          },
          "execution_count": 20
        }
      ]
    },
    {
      "cell_type": "code",
      "metadata": {
        "colab": {
          "base_uri": "https://localhost:8080/"
        },
        "id": "JUFO6bAl9Jlu",
        "outputId": "44599aec-bfb7-4e9f-f473-b6ca91104256"
      },
      "source": [
        "model.evaluate(X_test_full, y_test_full)"
      ],
      "execution_count": 22,
      "outputs": [
        {
          "output_type": "stream",
          "text": [
            "313/313 [==============================] - 1s 2ms/step - loss: 73.7839 - accuracy: 0.8371\n"
          ],
          "name": "stdout"
        },
        {
          "output_type": "execute_result",
          "data": {
            "text/plain": [
              "[73.78392791748047, 0.8371000289916992]"
            ]
          },
          "metadata": {
            "tags": []
          },
          "execution_count": 22
        }
      ]
    }
  ]
}