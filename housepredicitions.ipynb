{
  "nbformat": 4,
  "nbformat_minor": 0,
  "metadata": {
    "colab": {
      "name": "housepredicitions.ipynb",
      "provenance": [],
      "authorship_tag": "ABX9TyNndVO8CS30MR5EdLUAOo4H",
      "include_colab_link": true
    },
    "kernelspec": {
      "name": "python3",
      "display_name": "Python 3"
    },
    "language_info": {
      "name": "python"
    }
  },
  "cells": [
    {
      "cell_type": "markdown",
      "metadata": {
        "id": "view-in-github",
        "colab_type": "text"
      },
      "source": [
        "<a href=\"https://colab.research.google.com/github/krishna13052001/cnnworks/blob/main/housepredicitions.ipynb\" target=\"_parent\"><img src=\"https://colab.research.google.com/assets/colab-badge.svg\" alt=\"Open In Colab\"/></a>"
      ]
    },
    {
      "cell_type": "code",
      "metadata": {
        "id": "BmArcJIUphKE"
      },
      "source": [
        "import numpy as np\n",
        "import pandas as pd\n",
        "import matplotlib.pyplot as plt\n",
        "%matplotlib inline"
      ],
      "execution_count": 1,
      "outputs": []
    },
    {
      "cell_type": "code",
      "metadata": {
        "id": "K1CofGkdprJz"
      },
      "source": [
        "import tensorflow as tf\n",
        "from tensorflow import keras"
      ],
      "execution_count": 2,
      "outputs": []
    },
    {
      "cell_type": "code",
      "metadata": {
        "colab": {
          "base_uri": "https://localhost:8080/"
        },
        "id": "5Ti4vP6spvgs",
        "outputId": "4f696037-37b1-4e46-ce14-49a8c64bbe34"
      },
      "source": [
        "from sklearn.datasets import fetch_california_housing\n",
        "data = fetch_california_housing()"
      ],
      "execution_count": 3,
      "outputs": [
        {
          "output_type": "stream",
          "text": [
            "Downloading Cal. housing from https://ndownloader.figshare.com/files/5976036 to /root/scikit_learn_data\n"
          ],
          "name": "stderr"
        }
      ]
    },
    {
      "cell_type": "code",
      "metadata": {
        "colab": {
          "base_uri": "https://localhost:8080/"
        },
        "id": "PTwLyX-Wp6XW",
        "outputId": "72f65ae5-4ac0-4b21-bf1f-64cf4ac8b703"
      },
      "source": [
        "attributes = data.feature_names\n",
        "attributes"
      ],
      "execution_count": 4,
      "outputs": [
        {
          "output_type": "execute_result",
          "data": {
            "text/plain": [
              "['MedInc',\n",
              " 'HouseAge',\n",
              " 'AveRooms',\n",
              " 'AveBedrms',\n",
              " 'Population',\n",
              " 'AveOccup',\n",
              " 'Latitude',\n",
              " 'Longitude']"
            ]
          },
          "metadata": {
            "tags": []
          },
          "execution_count": 4
        }
      ]
    },
    {
      "cell_type": "code",
      "metadata": {
        "id": "xSxUZgpLqsPw"
      },
      "source": [
        "from sklearn.model_selection import train_test_split\n",
        "X_train, X_test ,y_train, y_test = train_test_split(data.data, data.target,random_state=42)\n",
        "X_train, X_validate, y_train, y_validate = train_test_split(X_train,y_train,random_state=42)"
      ],
      "execution_count": 5,
      "outputs": []
    },
    {
      "cell_type": "code",
      "metadata": {
        "id": "-SvlxB9drMZq"
      },
      "source": [
        "from sklearn.preprocessing import StandardScaler\n",
        "scaler =  StandardScaler()\n",
        "X_train = scaler.fit_transform(X_train)\n",
        "X_validate = scaler.fit_transform(X_validate)\n",
        "X_test = scaler.fit_transform(X_test)"
      ],
      "execution_count": 6,
      "outputs": []
    },
    {
      "cell_type": "code",
      "metadata": {
        "id": "OguZ6RuJrlEi"
      },
      "source": [
        "np.random.seed(42)\n",
        "tf.random.set_seed(42)"
      ],
      "execution_count": 7,
      "outputs": []
    },
    {
      "cell_type": "code",
      "metadata": {
        "colab": {
          "base_uri": "https://localhost:8080/"
        },
        "id": "qqjEYiqCrzGu",
        "outputId": "8e72d33a-91ab-4cac-b74a-d9484af09951"
      },
      "source": [
        "X_train.shape"
      ],
      "execution_count": 8,
      "outputs": [
        {
          "output_type": "execute_result",
          "data": {
            "text/plain": [
              "(11610, 8)"
            ]
          },
          "metadata": {
            "tags": []
          },
          "execution_count": 8
        }
      ]
    },
    {
      "cell_type": "code",
      "metadata": {
        "id": "DSA0ydo3r0e1"
      },
      "source": [
        "model = keras.models.Sequential()\n",
        "model.add(keras.layers.Dense(30, activation=\"relu\",input_shape=[8]))\n",
        "model.add(keras.layers.Dense(30, activation=\"relu\"))\n",
        "model.add(keras.layers.Dense(1))"
      ],
      "execution_count": 9,
      "outputs": []
    },
    {
      "cell_type": "code",
      "metadata": {
        "colab": {
          "base_uri": "https://localhost:8080/"
        },
        "id": "4M6QvY24tIs9",
        "outputId": "28f2c698-8b65-4f02-aa75-7375baccda9e"
      },
      "source": [
        "model.compile(loss=\"mean_squared_error\", optimizer=keras.optimizers.SGD(lr=1e-3),metrics=['mae'])"
      ],
      "execution_count": 10,
      "outputs": [
        {
          "output_type": "stream",
          "text": [
            "/usr/local/lib/python3.7/dist-packages/tensorflow/python/keras/optimizer_v2/optimizer_v2.py:375: UserWarning: The `lr` argument is deprecated, use `learning_rate` instead.\n",
            "  \"The `lr` argument is deprecated, use `learning_rate` instead.\")\n"
          ],
          "name": "stderr"
        }
      ]
    },
    {
      "cell_type": "code",
      "metadata": {
        "colab": {
          "base_uri": "https://localhost:8080/"
        },
        "id": "UszyT0QItbn2",
        "outputId": "0dbcb147-afd5-41f1-dc2d-10bf4834779b"
      },
      "source": [
        "model_history = model.fit(X_train, y_train, epochs=20, validation_data=(X_validate, y_validate))"
      ],
      "execution_count": 11,
      "outputs": [
        {
          "output_type": "stream",
          "text": [
            "Epoch 1/20\n",
            "363/363 [==============================] - 1s 2ms/step - loss: 1.8866 - mae: 0.9900 - val_loss: 0.7414 - val_mae: 0.6560\n",
            "Epoch 2/20\n",
            "363/363 [==============================] - 1s 2ms/step - loss: 0.6577 - mae: 0.6042 - val_loss: 0.6221 - val_mae: 0.5870\n",
            "Epoch 3/20\n",
            "363/363 [==============================] - 1s 2ms/step - loss: 0.5934 - mae: 0.5618 - val_loss: 0.5779 - val_mae: 0.5550\n",
            "Epoch 4/20\n",
            "363/363 [==============================] - 1s 2ms/step - loss: 0.5557 - mae: 0.5398 - val_loss: 0.5572 - val_mae: 0.5496\n",
            "Epoch 5/20\n",
            "363/363 [==============================] - 1s 2ms/step - loss: 0.5272 - mae: 0.5237 - val_loss: 0.5305 - val_mae: 0.5319\n",
            "Epoch 6/20\n",
            "363/363 [==============================] - 1s 2ms/step - loss: 0.5033 - mae: 0.5113 - val_loss: 0.5113 - val_mae: 0.5224\n",
            "Epoch 7/20\n",
            "363/363 [==============================] - 1s 2ms/step - loss: 0.4854 - mae: 0.5010 - val_loss: 0.4974 - val_mae: 0.5151\n",
            "Epoch 8/20\n",
            "363/363 [==============================] - 1s 2ms/step - loss: 0.4709 - mae: 0.4924 - val_loss: 0.4903 - val_mae: 0.5109\n",
            "Epoch 9/20\n",
            "363/363 [==============================] - 1s 2ms/step - loss: 0.4578 - mae: 0.4857 - val_loss: 0.4773 - val_mae: 0.5029\n",
            "Epoch 10/20\n",
            "363/363 [==============================] - 1s 2ms/step - loss: 0.4474 - mae: 0.4797 - val_loss: 0.4696 - val_mae: 0.4988\n",
            "Epoch 11/20\n",
            "363/363 [==============================] - 1s 2ms/step - loss: 0.4393 - mae: 0.4744 - val_loss: 0.4704 - val_mae: 0.5039\n",
            "Epoch 12/20\n",
            "363/363 [==============================] - 1s 2ms/step - loss: 0.4318 - mae: 0.4703 - val_loss: 0.4590 - val_mae: 0.4942\n",
            "Epoch 13/20\n",
            "363/363 [==============================] - 1s 2ms/step - loss: 0.4261 - mae: 0.4674 - val_loss: 0.4587 - val_mae: 0.4963\n",
            "Epoch 14/20\n",
            "363/363 [==============================] - 1s 2ms/step - loss: 0.4202 - mae: 0.4636 - val_loss: 0.4550 - val_mae: 0.4951\n",
            "Epoch 15/20\n",
            "363/363 [==============================] - 1s 2ms/step - loss: 0.4155 - mae: 0.4613 - val_loss: 0.4507 - val_mae: 0.4904\n",
            "Epoch 16/20\n",
            "363/363 [==============================] - 1s 2ms/step - loss: 0.4112 - mae: 0.4591 - val_loss: 0.4458 - val_mae: 0.4876\n",
            "Epoch 17/20\n",
            "363/363 [==============================] - 1s 2ms/step - loss: 0.4077 - mae: 0.4569 - val_loss: 0.4431 - val_mae: 0.4835\n",
            "Epoch 18/20\n",
            "363/363 [==============================] - 1s 2ms/step - loss: 0.4040 - mae: 0.4545 - val_loss: 0.4418 - val_mae: 0.4822\n",
            "Epoch 19/20\n",
            "363/363 [==============================] - 1s 2ms/step - loss: 0.4004 - mae: 0.4521 - val_loss: 0.4388 - val_mae: 0.4807\n",
            "Epoch 20/20\n",
            "363/363 [==============================] - 1s 2ms/step - loss: 0.3980 - mae: 0.4508 - val_loss: 0.4383 - val_mae: 0.4820\n"
          ],
          "name": "stdout"
        }
      ]
    },
    {
      "cell_type": "code",
      "metadata": {
        "id": "BVssr62Ltq0v",
        "colab": {
          "base_uri": "https://localhost:8080/"
        },
        "outputId": "870cc2c7-f7c6-4ae3-afa7-02824c32ce78"
      },
      "source": [
        "mae_test = model.fit(X_test, y_test)"
      ],
      "execution_count": 12,
      "outputs": [
        {
          "output_type": "stream",
          "text": [
            "162/162 [==============================] - 0s 1ms/step - loss: 0.3942 - mae: 0.4504\n"
          ],
          "name": "stdout"
        }
      ]
    },
    {
      "cell_type": "code",
      "metadata": {
        "colab": {
          "base_uri": "https://localhost:8080/"
        },
        "id": "dxqEOzkPt6Ye",
        "outputId": "01dfcc21-cd73-436c-d1ea-662837566f6e"
      },
      "source": [
        "model_history.history"
      ],
      "execution_count": 13,
      "outputs": [
        {
          "output_type": "execute_result",
          "data": {
            "text/plain": [
              "{'loss': [1.8866394758224487,\n",
              "  0.6577127575874329,\n",
              "  0.5934185981750488,\n",
              "  0.5557191371917725,\n",
              "  0.5271905064582825,\n",
              "  0.5032976269721985,\n",
              "  0.48535558581352234,\n",
              "  0.47091808915138245,\n",
              "  0.45779934525489807,\n",
              "  0.4474469721317291,\n",
              "  0.4393136501312256,\n",
              "  0.43176087737083435,\n",
              "  0.4260515868663788,\n",
              "  0.42017653584480286,\n",
              "  0.41549986600875854,\n",
              "  0.4111650586128235,\n",
              "  0.4077068567276001,\n",
              "  0.40395283699035645,\n",
              "  0.4004494547843933,\n",
              "  0.3979603350162506],\n",
              " 'mae': [0.9900256991386414,\n",
              "  0.6041510701179504,\n",
              "  0.5618005990982056,\n",
              "  0.5398454070091248,\n",
              "  0.5237294435501099,\n",
              "  0.5112562775611877,\n",
              "  0.5010153651237488,\n",
              "  0.492448091506958,\n",
              "  0.4857262372970581,\n",
              "  0.4797375202178955,\n",
              "  0.4744163453578949,\n",
              "  0.4703480303287506,\n",
              "  0.46740880608558655,\n",
              "  0.46360209584236145,\n",
              "  0.4612663984298706,\n",
              "  0.4591343402862549,\n",
              "  0.4568699896335602,\n",
              "  0.45453643798828125,\n",
              "  0.4521065056324005,\n",
              "  0.45083147287368774],\n",
              " 'val_loss': [0.7413728833198547,\n",
              "  0.6220595836639404,\n",
              "  0.5779172778129578,\n",
              "  0.5571869611740112,\n",
              "  0.5305212736129761,\n",
              "  0.5112658143043518,\n",
              "  0.49737149477005005,\n",
              "  0.4903269112110138,\n",
              "  0.47727108001708984,\n",
              "  0.4695732295513153,\n",
              "  0.4703767001628876,\n",
              "  0.4590151607990265,\n",
              "  0.45866554975509644,\n",
              "  0.45500877499580383,\n",
              "  0.45073699951171875,\n",
              "  0.4458054006099701,\n",
              "  0.4431248605251312,\n",
              "  0.44182002544403076,\n",
              "  0.4387696385383606,\n",
              "  0.43828633427619934],\n",
              " 'val_mae': [0.6560152769088745,\n",
              "  0.587020993232727,\n",
              "  0.5550429821014404,\n",
              "  0.5495699644088745,\n",
              "  0.5318752527236938,\n",
              "  0.5223987698554993,\n",
              "  0.5151413083076477,\n",
              "  0.5109214186668396,\n",
              "  0.502907931804657,\n",
              "  0.4988013505935669,\n",
              "  0.503919243812561,\n",
              "  0.4942389726638794,\n",
              "  0.4962692856788635,\n",
              "  0.49511757493019104,\n",
              "  0.49042701721191406,\n",
              "  0.4875504672527313,\n",
              "  0.483480304479599,\n",
              "  0.4822426736354828,\n",
              "  0.4806600511074066,\n",
              "  0.48197242617607117]}"
            ]
          },
          "metadata": {
            "tags": []
          },
          "execution_count": 13
        }
      ]
    },
    {
      "cell_type": "code",
      "metadata": {
        "colab": {
          "base_uri": "https://localhost:8080/",
          "height": 320
        },
        "id": "dRMXpLg7t85I",
        "outputId": "a94ca46c-03ce-483b-9610-cc897d747a43"
      },
      "source": [
        "pd.DataFrame(model_history.history).plot(figsize=(8,5))\n",
        "plt.grid(True)\n",
        "# plt.gca().set_ylin(0,1)\n",
        "plt.show()"
      ],
      "execution_count": 14,
      "outputs": [
        {
          "output_type": "display_data",
          "data": {
            "image/png": "[encoded data removed]",
            "text/plain": [
              "<Figure size 576x360 with 1 Axes>"
            ]
          },
          "metadata": {
            "tags": [],
            "needs_background": "light"
          }
        }
      ]
    },
    {
      "cell_type": "markdown",
      "metadata": {
        "id": "yN97dsC9Qe-z"
      },
      "source": [
        "Now, we will bulid the model using Functional API"
      ]
    },
    {
      "cell_type": "code",
      "metadata": {
        "id": "J4hGOolXQjkb"
      },
      "source": [
        "# First we will clear the session and model\n",
        "del model\n",
        "keras.backend.clear_session()"
      ],
      "execution_count": 15,
      "outputs": []
    },
    {
      "cell_type": "code",
      "metadata": {
        "id": "q6mF66DdQu1l"
      },
      "source": [
        "input_layer = keras.layers.Input(shape = X_train.shape[1:])\n",
        "hidden_layer_1 = keras.layers.Dense(30, activation=\"relu\")(input_layer)\n",
        "hidden_layer_2 = keras.layers.Dense(30, activation=\"relu\")(hidden_layer_1)\n",
        "concat = keras.layers.concatenate([input_layer,hidden_layer_2])\n",
        "output = keras.layers.Dense(1)(concat)\n",
        "model = keras.models.Model(inputs=[input_layer],outputs=[output])"
      ],
      "execution_count": 17,
      "outputs": []
    },
    {
      "cell_type": "code",
      "metadata": {
        "colab": {
          "base_uri": "https://localhost:8080/"
        },
        "id": "8BAAYwExRq45",
        "outputId": "e3a0de42-a27b-498c-faa4-b3910ad44648"
      },
      "source": [
        "model.summary()"
      ],
      "execution_count": 18,
      "outputs": [
        {
          "output_type": "stream",
          "text": [
            "Model: \"model\"\n",
            "__________________________________________________________________________________________________\n",
            "Layer (type)                    Output Shape         Param #     Connected to                     \n",
            "==================================================================================================\n",
            "input_2 (InputLayer)            [(None, 8)]          0                                            \n",
            "__________________________________________________________________________________________________\n",
            "dense_2 (Dense)                 (None, 30)           270         input_2[0][0]                    \n",
            "__________________________________________________________________________________________________\n",
            "dense_3 (Dense)                 (None, 30)           930         dense_2[0][0]                    \n",
            "__________________________________________________________________________________________________\n",
            "concatenate_1 (Concatenate)     (None, 38)           0           input_2[0][0]                    \n",
            "                                                                 dense_3[0][0]                    \n",
            "__________________________________________________________________________________________________\n",
            "dense_4 (Dense)                 (None, 1)            39          concatenate_1[0][0]              \n",
            "==================================================================================================\n",
            "Total params: 1,239\n",
            "Trainable params: 1,239\n",
            "Non-trainable params: 0\n",
            "__________________________________________________________________________________________________\n"
          ],
          "name": "stdout"
        }
      ]
    },
    {
      "cell_type": "code",
      "metadata": {
        "id": "07uiHTlGRvPU"
      },
      "source": [
        "model.compile(loss=\"mean_squared_error\", optimizer=keras.optimizers.SGD(learning_rate=1e-3),metrics=['mae'])"
      ],
      "execution_count": 21,
      "outputs": []
    },
    {
      "cell_type": "code",
      "metadata": {
        "colab": {
          "base_uri": "https://localhost:8080/"
        },
        "id": "BKW5hnxXSFc5",
        "outputId": "9cfc63d5-f939-4e4c-b717-641c59614a63"
      },
      "source": [
        "model_history = model.fit(X_train,y_train,epochs=40,validation_data=(X_validate,y_validate))"
      ],
      "execution_count": 22,
      "outputs": [
        {
          "output_type": "stream",
          "text": [
            "Epoch 1/40\n",
            "363/363 [==============================] - 1s 2ms/step - loss: 1.8871 - mae: 0.9733 - val_loss: 0.8137 - val_mae: 0.6729\n",
            "Epoch 2/40\n",
            "363/363 [==============================] - 1s 2ms/step - loss: 0.6985 - mae: 0.6181 - val_loss: 0.6738 - val_mae: 0.6108\n",
            "Epoch 3/40\n",
            "363/363 [==============================] - 1s 2ms/step - loss: 0.6362 - mae: 0.5826 - val_loss: 0.6294 - val_mae: 0.5800\n",
            "Epoch 4/40\n",
            "363/363 [==============================] - 1s 2ms/step - loss: 0.5831 - mae: 0.5567 - val_loss: 0.5917 - val_mae: 0.5669\n",
            "Epoch 5/40\n",
            "363/363 [==============================] - 1s 1ms/step - loss: 0.5507 - mae: 0.5389 - val_loss: 0.5662 - val_mae: 0.5514\n",
            "Epoch 6/40\n",
            "363/363 [==============================] - 1s 2ms/step - loss: 0.5220 - mae: 0.5247 - val_loss: 0.5377 - val_mae: 0.5381\n",
            "Epoch 7/40\n",
            "363/363 [==============================] - 1s 2ms/step - loss: 0.5009 - mae: 0.5131 - val_loss: 0.5219 - val_mae: 0.5318\n",
            "Epoch 8/40\n",
            "363/363 [==============================] - 1s 2ms/step - loss: 0.4829 - mae: 0.5035 - val_loss: 0.5094 - val_mae: 0.5240\n",
            "Epoch 9/40\n",
            "363/363 [==============================] - 1s 2ms/step - loss: 0.4675 - mae: 0.4951 - val_loss: 0.4936 - val_mae: 0.5178\n",
            "Epoch 10/40\n",
            "363/363 [==============================] - 1s 2ms/step - loss: 0.4558 - mae: 0.4892 - val_loss: 0.4833 - val_mae: 0.5096\n",
            "Epoch 11/40\n",
            "363/363 [==============================] - 1s 2ms/step - loss: 0.4457 - mae: 0.4824 - val_loss: 0.4782 - val_mae: 0.5114\n",
            "Epoch 12/40\n",
            "363/363 [==============================] - 1s 2ms/step - loss: 0.4373 - mae: 0.4780 - val_loss: 0.4693 - val_mae: 0.5038\n",
            "Epoch 13/40\n",
            "363/363 [==============================] - 1s 2ms/step - loss: 0.4302 - mae: 0.4742 - val_loss: 0.4653 - val_mae: 0.5038\n",
            "Epoch 14/40\n",
            "363/363 [==============================] - 1s 2ms/step - loss: 0.4241 - mae: 0.4700 - val_loss: 0.4602 - val_mae: 0.5018\n",
            "Epoch 15/40\n",
            "363/363 [==============================] - 1s 2ms/step - loss: 0.4187 - mae: 0.4671 - val_loss: 0.4558 - val_mae: 0.4968\n",
            "Epoch 16/40\n",
            "363/363 [==============================] - 1s 2ms/step - loss: 0.4140 - mae: 0.4642 - val_loss: 0.4501 - val_mae: 0.4942\n",
            "Epoch 17/40\n",
            "363/363 [==============================] - 1s 2ms/step - loss: 0.4096 - mae: 0.4614 - val_loss: 0.4495 - val_mae: 0.4904\n",
            "Epoch 18/40\n",
            "363/363 [==============================] - 1s 2ms/step - loss: 0.4064 - mae: 0.4585 - val_loss: 0.4438 - val_mae: 0.4862\n",
            "Epoch 19/40\n",
            "363/363 [==============================] - 1s 2ms/step - loss: 0.4017 - mae: 0.4556 - val_loss: 0.4425 - val_mae: 0.4848\n",
            "Epoch 20/40\n",
            "363/363 [==============================] - 1s 1ms/step - loss: 0.3987 - mae: 0.4536 - val_loss: 0.4424 - val_mae: 0.4873\n",
            "Epoch 21/40\n",
            "363/363 [==============================] - 1s 2ms/step - loss: 0.3964 - mae: 0.4516 - val_loss: 0.4388 - val_mae: 0.4879\n",
            "Epoch 22/40\n",
            "363/363 [==============================] - 1s 2ms/step - loss: 0.3928 - mae: 0.4500 - val_loss: 0.4408 - val_mae: 0.4871\n",
            "Epoch 23/40\n",
            "363/363 [==============================] - 1s 2ms/step - loss: 0.3908 - mae: 0.4485 - val_loss: 0.4319 - val_mae: 0.4699\n",
            "Epoch 24/40\n",
            "363/363 [==============================] - 1s 2ms/step - loss: 0.3883 - mae: 0.4463 - val_loss: 0.4376 - val_mae: 0.4792\n",
            "Epoch 25/40\n",
            "363/363 [==============================] - 1s 1ms/step - loss: 0.3868 - mae: 0.4450 - val_loss: 0.4302 - val_mae: 0.4777\n",
            "Epoch 26/40\n",
            "363/363 [==============================] - 1s 2ms/step - loss: 0.3832 - mae: 0.4432 - val_loss: 0.4306 - val_mae: 0.4764\n",
            "Epoch 27/40\n",
            "363/363 [==============================] - 1s 2ms/step - loss: 0.3825 - mae: 0.4424 - val_loss: 0.4248 - val_mae: 0.4679\n",
            "Epoch 28/40\n",
            "363/363 [==============================] - 1s 2ms/step - loss: 0.3805 - mae: 0.4414 - val_loss: 0.4328 - val_mae: 0.4794\n",
            "Epoch 29/40\n",
            "363/363 [==============================] - 1s 2ms/step - loss: 0.3801 - mae: 0.4401 - val_loss: 0.4251 - val_mae: 0.4756\n",
            "Epoch 30/40\n",
            "363/363 [==============================] - 1s 2ms/step - loss: 0.3771 - mae: 0.4391 - val_loss: 0.4307 - val_mae: 0.4732\n",
            "Epoch 31/40\n",
            "363/363 [==============================] - 1s 1ms/step - loss: 0.3786 - mae: 0.4380 - val_loss: 0.4230 - val_mae: 0.4703\n",
            "Epoch 32/40\n",
            "363/363 [==============================] - 1s 2ms/step - loss: 0.3741 - mae: 0.4370 - val_loss: 0.4314 - val_mae: 0.4791\n",
            "Epoch 33/40\n",
            "363/363 [==============================] - 1s 2ms/step - loss: 0.3747 - mae: 0.4357 - val_loss: 0.4206 - val_mae: 0.4713\n",
            "Epoch 34/40\n",
            "363/363 [==============================] - 1s 2ms/step - loss: 0.3716 - mae: 0.4351 - val_loss: 0.4255 - val_mae: 0.4729\n",
            "Epoch 35/40\n",
            "363/363 [==============================] - 1s 2ms/step - loss: 0.3704 - mae: 0.4338 - val_loss: 0.4233 - val_mae: 0.4747\n",
            "Epoch 36/40\n",
            "363/363 [==============================] - 1s 2ms/step - loss: 0.3685 - mae: 0.4331 - val_loss: 0.4199 - val_mae: 0.4667\n",
            "Epoch 37/40\n",
            "363/363 [==============================] - 1s 2ms/step - loss: 0.3677 - mae: 0.4320 - val_loss: 0.4220 - val_mae: 0.4716\n",
            "Epoch 38/40\n",
            "363/363 [==============================] - 1s 2ms/step - loss: 0.3670 - mae: 0.4314 - val_loss: 0.4180 - val_mae: 0.4675\n",
            "Epoch 39/40\n",
            "363/363 [==============================] - 1s 2ms/step - loss: 0.3654 - mae: 0.4307 - val_loss: 0.4191 - val_mae: 0.4676\n",
            "Epoch 40/40\n",
            "363/363 [==============================] - 1s 2ms/step - loss: 0.3643 - mae: 0.4298 - val_loss: 0.4165 - val_mae: 0.4627\n"
          ],
          "name": "stdout"
        }
      ]
    },
    {
      "cell_type": "code",
      "metadata": {
        "colab": {
          "base_uri": "https://localhost:8080/"
        },
        "id": "ZkE89kCuSOsq",
        "outputId": "3328cb5e-9d05-4e7d-a168-7d65a3dc3322"
      },
      "source": [
        "mae_test = model.evaluate(X_test, y_test)"
      ],
      "execution_count": 24,
      "outputs": [
        {
          "output_type": "stream",
          "text": [
            "162/162 [==============================] - 0s 1ms/step - loss: 0.3776 - mae: 0.4455\n"
          ],
          "name": "stdout"
        }
      ]
    },
    {
      "cell_type": "code",
      "metadata": {
        "colab": {
          "base_uri": "https://localhost:8080/"
        },
        "id": "FFPL51NMShNk",
        "outputId": "7275af0e-82e9-45a8-bdd0-6713f911d3a6"
      },
      "source": [
        "model_history.history"
      ],
      "execution_count": 25,
      "outputs": [
        {
          "output_type": "execute_result",
          "data": {
            "text/plain": [
              "{'loss': [1.8870816230773926,\n",
              "  0.6985266804695129,\n",
              "  0.6362205147743225,\n",
              "  0.5830869078636169,\n",
              "  0.5506727695465088,\n",
              "  0.5219724178314209,\n",
              "  0.5008842349052429,\n",
              "  0.4828588366508484,\n",
              "  0.4675367474555969,\n",
              "  0.4557570815086365,\n",
              "  0.44570794701576233,\n",
              "  0.4373014569282532,\n",
              "  0.43016543984413147,\n",
              "  0.4241107404232025,\n",
              "  0.41865482926368713,\n",
              "  0.41403132677078247,\n",
              "  0.4096393585205078,\n",
              "  0.4063640534877777,\n",
              "  0.4016761779785156,\n",
              "  0.3986748158931732,\n",
              "  0.3963574171066284,\n",
              "  0.3928169310092926,\n",
              "  0.390794962644577,\n",
              "  0.38828495144844055,\n",
              "  0.3867734670639038,\n",
              "  0.38322705030441284,\n",
              "  0.38248151540756226,\n",
              "  0.380479097366333,\n",
              "  0.3801407814025879,\n",
              "  0.37710049748420715,\n",
              "  0.3786316514015198,\n",
              "  0.37413617968559265,\n",
              "  0.374658465385437,\n",
              "  0.3716024160385132,\n",
              "  0.3703598082065582,\n",
              "  0.36849135160446167,\n",
              "  0.36766818165779114,\n",
              "  0.36696040630340576,\n",
              "  0.36541154980659485,\n",
              "  0.3643314838409424],\n",
              " 'mae': [0.9733277559280396,\n",
              "  0.6180993914604187,\n",
              "  0.5825698971748352,\n",
              "  0.556715726852417,\n",
              "  0.5389419794082642,\n",
              "  0.524651288986206,\n",
              "  0.5130792260169983,\n",
              "  0.5034615397453308,\n",
              "  0.49505460262298584,\n",
              "  0.48919859528541565,\n",
              "  0.4823799431324005,\n",
              "  0.47803330421447754,\n",
              "  0.474247008562088,\n",
              "  0.47002115845680237,\n",
              "  0.4670860171318054,\n",
              "  0.46421629190444946,\n",
              "  0.4613954722881317,\n",
              "  0.45853713154792786,\n",
              "  0.4556283950805664,\n",
              "  0.4535866677761078,\n",
              "  0.45162054896354675,\n",
              "  0.45000752806663513,\n",
              "  0.4485446512699127,\n",
              "  0.44632232189178467,\n",
              "  0.44500869512557983,\n",
              "  0.4432121813297272,\n",
              "  0.4423634111881256,\n",
              "  0.4413582980632782,\n",
              "  0.4401032328605652,\n",
              "  0.43914178013801575,\n",
              "  0.4380132257938385,\n",
              "  0.4370001554489136,\n",
              "  0.43569231033325195,\n",
              "  0.4350753426551819,\n",
              "  0.43376147747039795,\n",
              "  0.43310731649398804,\n",
              "  0.4319826662540436,\n",
              "  0.4314391016960144,\n",
              "  0.43065986037254333,\n",
              "  0.4298073947429657],\n",
              " 'val_loss': [0.8137031197547913,\n",
              "  0.673773467540741,\n",
              "  0.6293588280677795,\n",
              "  0.5917494893074036,\n",
              "  0.5662004947662354,\n",
              "  0.5376780033111572,\n",
              "  0.5219154357910156,\n",
              "  0.509431004524231,\n",
              "  0.49358880519866943,\n",
              "  0.4833064079284668,\n",
              "  0.4781591296195984,\n",
              "  0.4692905843257904,\n",
              "  0.4652640223503113,\n",
              "  0.460164338350296,\n",
              "  0.4557803273200989,\n",
              "  0.4501346945762634,\n",
              "  0.4495236277580261,\n",
              "  0.44381600618362427,\n",
              "  0.44251200556755066,\n",
              "  0.44236937165260315,\n",
              "  0.4387643039226532,\n",
              "  0.4407646059989929,\n",
              "  0.43190303444862366,\n",
              "  0.4375549256801605,\n",
              "  0.43015405535697937,\n",
              "  0.43056076765060425,\n",
              "  0.4248245656490326,\n",
              "  0.43277740478515625,\n",
              "  0.42507120966911316,\n",
              "  0.43069469928741455,\n",
              "  0.4230487048625946,\n",
              "  0.4314461648464203,\n",
              "  0.4206176996231079,\n",
              "  0.42547622323036194,\n",
              "  0.42326533794403076,\n",
              "  0.41989070177078247,\n",
              "  0.42200586199760437,\n",
              "  0.41802316904067993,\n",
              "  0.4190921485424042,\n",
              "  0.41654646396636963],\n",
              " 'val_mae': [0.6728935837745667,\n",
              "  0.6108097434043884,\n",
              "  0.5800256729125977,\n",
              "  0.5669434666633606,\n",
              "  0.5513637065887451,\n",
              "  0.5381379127502441,\n",
              "  0.531785786151886,\n",
              "  0.5240071415901184,\n",
              "  0.517846405506134,\n",
              "  0.5096026062965393,\n",
              "  0.5113715529441833,\n",
              "  0.5037583708763123,\n",
              "  0.503768265247345,\n",
              "  0.5018193125724792,\n",
              "  0.4967769682407379,\n",
              "  0.4941592216491699,\n",
              "  0.490397185087204,\n",
              "  0.48624318838119507,\n",
              "  0.4848349392414093,\n",
              "  0.48727551102638245,\n",
              "  0.4879016876220703,\n",
              "  0.48713651299476624,\n",
              "  0.46994468569755554,\n",
              "  0.47924745082855225,\n",
              "  0.4776686131954193,\n",
              "  0.4763728082180023,\n",
              "  0.4679245948791504,\n",
              "  0.47943300008773804,\n",
              "  0.47564393281936646,\n",
              "  0.47323477268218994,\n",
              "  0.4703395366668701,\n",
              "  0.47913724184036255,\n",
              "  0.47130247950553894,\n",
              "  0.47291937470436096,\n",
              "  0.4747055470943451,\n",
              "  0.46668684482574463,\n",
              "  0.4715563654899597,\n",
              "  0.4674546718597412,\n",
              "  0.46757230162620544,\n",
              "  0.46265605092048645]}"
            ]
          },
          "metadata": {
            "tags": []
          },
          "execution_count": 25
        }
      ]
    },
    {
      "cell_type": "code",
      "metadata": {
        "colab": {
          "base_uri": "https://localhost:8080/",
          "height": 320
        },
        "id": "Ww9E5JUwSnHQ",
        "outputId": "0998be96-aeaf-4049-d8ed-5c3a649601c1"
      },
      "source": [
        "pd.DataFrame(model_history.history).plot(figsize=(8,5))\n",
        "plt.grid(True)\n",
        "plt.show()"
      ],
      "execution_count": 26,
      "outputs": [
        {
          "output_type": "display_data",
          "data": {
            "image/png": "[encoded data removed]",
            "text/plain": [
              "<Figure size 576x360 with 1 Axes>"
            ]
          },
          "metadata": {
            "tags": [],
            "needs_background": "light"
          }
        }
      ]
    },
    {
      "cell_type": "markdown",
      "metadata": {
        "id": "2738MVDrS-09"
      },
      "source": [
        "Still not Convering we can able to increasing the epochs"
      ]
    },
    {
      "cell_type": "code",
      "metadata": {
        "id": "gCJW4afPS9Eo"
      },
      "source": [
        ""
      ],
      "execution_count": null,
      "outputs": []
    }
  ]
}